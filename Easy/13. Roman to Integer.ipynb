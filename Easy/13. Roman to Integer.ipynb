{
 "cells": [
  {
   "cell_type": "code",
   "execution_count": null,
   "id": "05ca0930",
   "metadata": {},
   "outputs": [],
   "source": [
    "class Solution:\n",
    "    def romanToInt(self, s: str) -> int:\n",
    "        values = {\n",
    "            'I' : 1 ,\n",
    "            'V' : 5 ,\n",
    "            'X' : 10 ,\n",
    "            'L' : 50 ,\n",
    "            'C' : 100 ,\n",
    "            'D' : 500 ,\n",
    "            'M' : 1000 ,\n",
    "        }\n",
    "        \n",
    "        N = len(s)\n",
    "        result = 0\n",
    "        index = 0\n",
    "        while index < N :\n",
    "            char = s[index]\n",
    "            value = values[char]\n",
    "            if index + 1 < N :\n",
    "                next_char = s[index + 1]\n",
    "                next_value = values[next_char]\n",
    "                \n",
    "                if value < next_value :\n",
    "                    result += (next_value - value)\n",
    "                    index += 1\n",
    "                else :\n",
    "                    result += value\n",
    "            else :\n",
    "                result += value\n",
    "            index += 1\n",
    "                    \n",
    "        return result"
   ]
  }
 ],
 "metadata": {
  "kernelspec": {
   "display_name": "Python 3 (ipykernel)",
   "language": "python",
   "name": "python3"
  },
  "language_info": {
   "codemirror_mode": {
    "name": "ipython",
    "version": 3
   },
   "file_extension": ".py",
   "mimetype": "text/x-python",
   "name": "python",
   "nbconvert_exporter": "python",
   "pygments_lexer": "ipython3",
   "version": "3.9.7"
  }
 },
 "nbformat": 4,
 "nbformat_minor": 5
}
