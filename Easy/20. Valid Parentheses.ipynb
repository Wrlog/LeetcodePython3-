{
 "cells": [
  {
   "cell_type": "code",
   "execution_count": null,
   "id": "086e83d1",
   "metadata": {},
   "outputs": [],
   "source": [
    "class Solution:\n",
    "    def isValid(self, s: str) -> bool:\n",
    "        #'(', ')', '{', '}', '[' and ']'\n",
    "        \n",
    "        openParens = set(['(','{','['])\n",
    "        closedParens = { '}' : '{',\n",
    "                       ']' :  '[',\n",
    "                       ')' : '(' ,    \n",
    "                      }           \n",
    "                                 \n",
    "        stack = []          \n",
    "        \n",
    "        for c in s :\n",
    "            if c in openParens :\n",
    "                stack.append(c)\n",
    "            else :\n",
    "                if c not in closedParens :\n",
    "                    return False\n",
    "                \n",
    "                if len(stack) == 0 or stack [-1] != closedParens[c] :\n",
    "                    return False\n",
    "                stack.pop()\n",
    "        return len(stack) == 0\n",
    "                                "
   ]
  }
 ],
 "metadata": {
  "kernelspec": {
   "display_name": "Python 3 (ipykernel)",
   "language": "python",
   "name": "python3"
  },
  "language_info": {
   "codemirror_mode": {
    "name": "ipython",
    "version": 3
   },
   "file_extension": ".py",
   "mimetype": "text/x-python",
   "name": "python",
   "nbconvert_exporter": "python",
   "pygments_lexer": "ipython3",
   "version": "3.9.7"
  }
 },
 "nbformat": 4,
 "nbformat_minor": 5
}
