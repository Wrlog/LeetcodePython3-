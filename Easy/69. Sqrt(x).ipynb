{
 "cells": [
  {
   "cell_type": "code",
   "execution_count": null,
   "id": "49791917",
   "metadata": {},
   "outputs": [],
   "source": [
    "class Solution:\n",
    "    def mySqrt(self, x: int) -> int:\n",
    "        \n",
    "         left = 0\n",
    "         right = x\n",
    "\n",
    "         while left <= right :\n",
    "                \n",
    "            mid = (right+ left) // 2\n",
    "            \n",
    "            if mid * mid > x :\n",
    "                right = mid - 1\n",
    "                \n",
    "            else  :\n",
    "                left = mid + 1\n",
    "           \n",
    "                \n",
    "         return right\n",
    "                \n",
    "\n",
    "# improt solution   \n",
    "        #import math\n",
    "        #return int (math.sqrt(x))\n",
    "    \n",
    "    # exponent solution \n",
    "    # return int(x**1/2)\n",
    "    "
   ]
  }
 ],
 "metadata": {
  "kernelspec": {
   "display_name": "Python 3 (ipykernel)",
   "language": "python",
   "name": "python3"
  },
  "language_info": {
   "codemirror_mode": {
    "name": "ipython",
    "version": 3
   },
   "file_extension": ".py",
   "mimetype": "text/x-python",
   "name": "python",
   "nbconvert_exporter": "python",
   "pygments_lexer": "ipython3",
   "version": "3.9.7"
  }
 },
 "nbformat": 4,
 "nbformat_minor": 5
}
