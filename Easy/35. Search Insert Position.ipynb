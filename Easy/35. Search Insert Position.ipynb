{
 "cells": [
  {
   "cell_type": "code",
   "execution_count": null,
   "id": "539a6c60",
   "metadata": {},
   "outputs": [],
   "source": [
    "class Solution:\n",
    "    def searchInsert(self, nums: List[int], target: int) -> int:\n",
    "        N = len(nums)\n",
    "    \n",
    "    # [left, right] inclusive\n",
    "        left = 0\n",
    "        right = N\n",
    "    \n",
    "    # if they're inclusive, that means that when they are the same number,\n",
    "    \n",
    "        while left < right :\n",
    "            mid = (left+ right)// 2\n",
    "        \n",
    "            if nums [mid] >= target :\n",
    "                right = mid\n",
    "            else :\n",
    "                left = mid + 1\n",
    "            \n",
    "        return left"
   ]
  }
 ],
 "metadata": {
  "kernelspec": {
   "display_name": "Python 3 (ipykernel)",
   "language": "python",
   "name": "python3"
  },
  "language_info": {
   "codemirror_mode": {
    "name": "ipython",
    "version": 3
   },
   "file_extension": ".py",
   "mimetype": "text/x-python",
   "name": "python",
   "nbconvert_exporter": "python",
   "pygments_lexer": "ipython3",
   "version": "3.9.7"
  }
 },
 "nbformat": 4,
 "nbformat_minor": 5
}
