{
 "cells": [
  {
   "cell_type": "code",
   "execution_count": null,
   "id": "3053132a",
   "metadata": {},
   "outputs": [],
   "source": [
    "class Solution:\n",
    "    def longestCommonPrefix(self, strs: List[str]) -> str:\n",
    "        \n",
    "        if len(strs) == 0 :\n",
    "            return(\"\")\n",
    "        if len(strs) == 1 :\n",
    "            return(strs[0])\n",
    "        \n",
    "        pref = strs[0]\n",
    "        plen = len(pref)\n",
    "        \n",
    "        for s in strs[1:] :\n",
    "            \n",
    "            while pref != s[0:plen] :\n",
    "                pref = pref[0:(plen-1)]\n",
    "                plen -= 1\n",
    "                \n",
    "                if plen == 0 :\n",
    "                    return(\"\")\n",
    "        return(pref)"
   ]
  }
 ],
 "metadata": {
  "kernelspec": {
   "display_name": "Python 3 (ipykernel)",
   "language": "python",
   "name": "python3"
  },
  "language_info": {
   "codemirror_mode": {
    "name": "ipython",
    "version": 3
   },
   "file_extension": ".py",
   "mimetype": "text/x-python",
   "name": "python",
   "nbconvert_exporter": "python",
   "pygments_lexer": "ipython3",
   "version": "3.9.7"
  }
 },
 "nbformat": 4,
 "nbformat_minor": 5
}
