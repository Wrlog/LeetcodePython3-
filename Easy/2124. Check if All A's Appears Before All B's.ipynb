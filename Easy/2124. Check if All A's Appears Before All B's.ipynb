{
 "cells": [
  {
   "cell_type": "code",
   "execution_count": null,
   "id": "2de3feff",
   "metadata": {},
   "outputs": [],
   "source": [
    "class Solution:\n",
    "    def checkString(self, s: str) -> bool:\n",
    "        b = False\n",
    "            \n",
    "        for x in s :\n",
    "            if x == \"b\" :\n",
    "                b = True\n",
    "            if x == \"a\" :\n",
    "                if b :\n",
    "                    return False\n",
    "        return True\n",
    "            "
   ]
  }
 ],
 "metadata": {
  "kernelspec": {
   "display_name": "Python 3 (ipykernel)",
   "language": "python",
   "name": "python3"
  },
  "language_info": {
   "codemirror_mode": {
    "name": "ipython",
    "version": 3
   },
   "file_extension": ".py",
   "mimetype": "text/x-python",
   "name": "python",
   "nbconvert_exporter": "python",
   "pygments_lexer": "ipython3",
   "version": "3.9.7"
  }
 },
 "nbformat": 4,
 "nbformat_minor": 5
}
