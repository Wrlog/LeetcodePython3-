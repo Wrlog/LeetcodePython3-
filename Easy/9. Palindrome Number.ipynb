{
 "cells": [
  {
   "cell_type": "code",
   "execution_count": null,
   "id": "46d70c41",
   "metadata": {},
   "outputs": [],
   "source": [
    "class Solution:\n",
    "    def reverse(self , x) :\n",
    "        y = 0\n",
    "        while x > 0:\n",
    "            y *= 10\n",
    "            y += x % 10\n",
    "            x //=  10\n",
    "        return y\n",
    "    \n",
    "    def isPalindrome(self, x: int) -> bool:\n",
    "        \n",
    "        if x <0 :\n",
    "            return False\n",
    "        \n",
    "        return x == self.reverse(x)"
   ]
  }
 ],
 "metadata": {
  "kernelspec": {
   "display_name": "Python 3 (ipykernel)",
   "language": "python",
   "name": "python3"
  },
  "language_info": {
   "codemirror_mode": {
    "name": "ipython",
    "version": 3
   },
   "file_extension": ".py",
   "mimetype": "text/x-python",
   "name": "python",
   "nbconvert_exporter": "python",
   "pygments_lexer": "ipython3",
   "version": "3.9.7"
  }
 },
 "nbformat": 4,
 "nbformat_minor": 5
}
